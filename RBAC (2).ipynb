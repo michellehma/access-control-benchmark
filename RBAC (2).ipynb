{
 "cells": [
  {
   "cell_type": "code",
   "execution_count": 86,
   "id": "7259ef2c",
   "metadata": {},
   "outputs": [
    {
     "name": "stdout",
     "output_type": "stream",
     "text": [
      "Scenario: Product Profitability Analysis\n",
      "\n",
      "Executing User: Michael Burke (Role: Product Manager)\n",
      "Access Consideration: Details for the scenario.\n"
     ]
    }
   ],
   "source": [
    "import csv\n",
    "import os\n",
    "import random\n",
    "from faker import Faker\n",
    "\n",
    "class TPCH_RBAC_Simulator:\n",
    "    def __init__(self):\n",
    "        self.fake = Faker()\n",
    "        self.policy_id = self.get_last_policy_id()  # Initialize policy ID from existing data\n",
    "        self.initialize_scenarios()\n",
    "\n",
    "    def get_last_policy_id(self):\n",
    "        \"\"\" Retrieve the last policy ID from the policy.csv file if it exists, else start from 0 \"\"\"\n",
    "        try:\n",
    "            with open('policy.csv', 'r') as file:\n",
    "                last_line = list(csv.reader(file))[-1]\n",
    "                return int(last_line[0]) + 1\n",
    "        except (FileNotFoundError, IndexError):\n",
    "            return 0\n",
    "\n",
    "    def initialize_scenarios(self):\n",
    "        self.scenarios = {\n",
    "        \"Financial Health Overview\": {\n",
    "            \"roles\": {\n",
    "                \"Financial Analyst\": {\n",
    "                    \"permissions\": {\n",
    "                        \"ORDERS\": [\"SELECT o_totalprice\", \"AVG o_totalprice\"],\n",
    "                        \"LINEITEM\": [\"SELECT l_extendedprice\"]\n",
    "                    },\n",
    "                    \"row_conditions\": \"o_orderdate >= '2022-01-01'\"\n",
    "                }\n",
    "            }\n",
    "        },\n",
    "        \"Quarterly Revenue Trends\": {\n",
    "            \"roles\": {\n",
    "                \"Financial Analyst\": {\n",
    "                    \"permissions\": {\n",
    "                        \"ORDERS\": [\"SUM o_totalprice\", \"COUNT o_orderid\"],\n",
    "                        \"LINEITEM\": [\"AVG l_discount\"]\n",
    "                    },\n",
    "                    \"row_conditions\": \"o_orderdate between '2022-01-01' and '2022-03-31'\"\n",
    "                }\n",
    "            }\n",
    "        },\n",
    "        \"Inventory Analysis and Optimization\": {\n",
    "            \"roles\": {\n",
    "                \"Inventory Manager\": {\n",
    "                    \"permissions\": {\n",
    "                        \"PART\": [\"SELECT p_partkey\"],\n",
    "                        \"PARTSUPP\": [\"AVG ps_supplycost\"]\n",
    "                    },\n",
    "                    \"row_conditions\": \"p_type = 'critical'\"\n",
    "                }\n",
    "            }\n",
    "        },\n",
    "        \"Critical Stock Levels\": {\n",
    "            \"roles\": {\n",
    "                \"Inventory Manager\": {\n",
    "                    \"permissions\": {\n",
    "                        \"PARTSUPP\": [\"SELECT ps_availqty\", \"SELECT ps_partkey\"],\n",
    "                        \"PART\": [\"SELECT p_name\"]\n",
    "                    },\n",
    "                    \"row_conditions\": \"ps_availqty < 50\"\n",
    "                }\n",
    "            }\n",
    "        },\n",
    "        \"Market Segmentation Analysis\": {\n",
    "            \"roles\": {\n",
    "                \"Marketing Analyst\": {\n",
    "                    \"permissions\": {\n",
    "                        \"CUSTOMER\": [\"SELECT c_mktsegment\", \"COUNT c_custkey\"],\n",
    "                        \"ORDERS\": [\"SELECT o_orderkey\"]\n",
    "                    },\n",
    "                    \"row_conditions\": \"c_mktsegment = 'AUTOMOBILE'\"\n",
    "                }\n",
    "            }\n",
    "        },\n",
    "        \"High-Value Customer Identification\": {\n",
    "            \"roles\": {\n",
    "                \"Marketing Analyst\": {\n",
    "                    \"permissions\": {\n",
    "                        \"CUSTOMER\": [\"SELECT c_name\", \"SELECT c_revenue\"],\n",
    "                        \"ORDERS\": [\"SELECT o_totalprice\"]\n",
    "                    },\n",
    "                    \"row_conditions\": \"c_revenue > 10000\"\n",
    "                }\n",
    "            }\n",
    "        },\n",
    "        \"Supplier Financial Health Assessment\": {\n",
    "            \"roles\": {\n",
    "                \"Procurement Specialist\": {\n",
    "                    \"permissions\": {\n",
    "                        \"SUPPLIER\": [\"SELECT s_acctbal\", \"SUM s_acctbal\"],\n",
    "                        \"PARTSUPP\": [\"SELECT ps_supplycost\"]\n",
    "                    },\n",
    "                    \"row_conditions\": \"s_acctbal > 5000\"\n",
    "                }\n",
    "            }\n",
    "        },\n",
    "        \"Supplier Reliability Check\": {\n",
    "            \"roles\": {\n",
    "                \"Procurement Specialist\": {\n",
    "                    \"permissions\": {\n",
    "                        \"SUPPLIER\": [\"SELECT s_performance\"],\n",
    "                        \"PARTSUPP\": [\"SELECT ps_partkey\"]\n",
    "                    },\n",
    "                    \"row_conditions\": \"s_performance >= 8\"\n",
    "                }\n",
    "            }\n",
    "        },\n",
    "        \"Regional Performance and Tax Analysis\": {\n",
    "            \"roles\": {\n",
    "                \"Tax Analyst\": {\n",
    "                    \"permissions\": {\n",
    "                        \"ORDERS\": [\"SELECT o_region\", \"SUM o_tax\"],\n",
    "                        \"CUSTOMER\": [\"SELECT c_region\"]\n",
    "                    },\n",
    "                    \"row_conditions\": \"o_region = 'EUROPE'\"\n",
    "                }\n",
    "            }\n",
    "        },\n",
    "        \"End of Year Sales Review\": {\n",
    "            \"roles\": {\n",
    "                \"Regional Sales Manager\": {\n",
    "                    \"permissions\": {\n",
    "                        \"ORDERS\": [\"SUM o_totalprice\", \"SELECT o_orderdate\"],\n",
    "                        \"LINEITEM\": [\"SELECT l_quantity\"]\n",
    "                    },\n",
    "                    \"row_conditions\": \"o_orderdate between '2022-10-01' and '2022-12-31'\"\n",
    "                }\n",
    "            }\n",
    "        },\n",
    "        \"Global Demand Forecasting\": {\n",
    "            \"roles\": {\n",
    "                \"Market Research Analyst\": {\n",
    "                    \"permissions\": {\n",
    "                        \"ORDERS\": [\"SELECT o_shippriority\", \"COUNT o_orderid\"],\n",
    "                        \"CUSTOMER\": [\"SELECT c_nationkey\"]\n",
    "                    },\n",
    "                    \"row_conditions\": \"o_orderdate >= '2022-01-01'\"\n",
    "                }\n",
    "            }\n",
    "        },\n",
    "        \"Operational Efficiency Review\": {\n",
    "            \"roles\": {\n",
    "                \"Operations Manager\": {\n",
    "                    \"permissions\": {\n",
    "                        \"LINEITEM\": [\"SUM l_quantity\", \"AVG l_extendedprice\"],\n",
    "                        \"ORDERS\": [\"COUNT o_orderid\"]\n",
    "                    },\n",
    "                    \"row_conditions\": \"l_shipdate <= '2022-12-31'\"\n",
    "                }\n",
    "            }\n",
    "        },\n",
    "        \"Compliance Audit\": {\n",
    "            \"roles\": {\n",
    "                \"Compliance Officer\": {\n",
    "                    \"permissions\": {\n",
    "                        \"SUPPLIER\": [\"SELECT s_comment\", \"SELECT s_name\"],\n",
    "                        \"PART\": [\"SELECT p_name\"]\n",
    "                    },\n",
    "                    \"row_conditions\": \"s_acctbal < 0\"\n",
    "                }\n",
    "            }\n",
    "        },\n",
    "        \"Product Profitability Analysis\": {\n",
    "            \"roles\": {\n",
    "                \"Product Manager\": {\n",
    "                    \"permissions\": {\n",
    "                        \"PART\": [\"SELECT p_partkey\", \"AVG ps_supplycost\"],\n",
    "                        \"PARTSUPP\": [\"SELECT ps_partkey\"]\n",
    "                    },\n",
    "                    \"row_conditions\": \"p_size between 1 and 50\"\n",
    "                }\n",
    "            }\n",
    "        },\n",
    "        \"Customer Loyalty Program Review\": {\n",
    "            \"roles\": {\n",
    "                \"Customer Relationship Manager\": {\n",
    "                    \"permissions\": {\n",
    "                        \"CUSTOMER\": [\"SELECT c_name\", \"SUM c_acctbal\"],\n",
    "                        \"ORDERS\": [\"COUNT o_orderid\"]\n",
    "                    },\n",
    "                    \"row_conditions\": \"c_acctbal > 5000\"\n",
    "                }\n",
    "            }\n",
    "        },\n",
    "        \"Resource Allocation Planning\": {\n",
    "            \"roles\": {\n",
    "                \"Resource Manager\": {\n",
    "                    \"permissions\": {\n",
    "                        \"PARTSUPP\": [\"SELECT ps_supplycost\", \"SELECT ps_availqty\"],\n",
    "                        \"SUPPLIER\": [\"SELECT s_nationkey\"]\n",
    "                    },\n",
    "                    \"row_conditions\": \"ps_availqty > 100\"\n",
    "                }\n",
    "            }\n",
    "        },\n",
    "        \"Quality Control Analysis\": {\n",
    "            \"roles\": {\n",
    "                \"Quality Assurance Manager\": {\n",
    "                    \"permissions\": {\n",
    "                        \"LINEITEM\": [\"SELECT l_quality\", \"AVG l_quality\"],\n",
    "                        \"ORDERS\": [\"SELECT o_orderstatus\"]\n",
    "                    },\n",
    "                    \"row_conditions\": \"l_quality < 'B'\"\n",
    "                }\n",
    "            }\n",
    "        },\n",
    "        \"Revenue Stream Analysis\": {\n",
    "            \"roles\": {\n",
    "                \"Chief Financial Officer\": {\n",
    "                    \"permissions\": {\n",
    "                        \"ORDERS\": [\"SUM o_totalprice\"],\n",
    "                        \"CUSTOMER\": [\"SELECT c_credit\"]\n",
    "                    },\n",
    "                    \"row_conditions\": \"o_totalprice > 10000\"\n",
    "                }\n",
    "            }\n",
    "        },\n",
    "        \"Strategic Planning Session\": {\n",
    "            \"roles\": {\n",
    "                \"Strategy Analyst\": {\n",
    "                    \"permissions\": {\n",
    "                        \"NATION\": [\"SELECT n_name\", \"COUNT n_regionkey\"],\n",
    "                        \"REGION\": [\"SELECT r_name\"]\n",
    "                    },\n",
    "                    \"row_conditions\": \"n_regionkey =r_regionkey\"\n",
    "                }\n",
    "            }\n",
    "        },\n",
    "        \"Supply Chain Disruption Analysis\": {\n",
    "            \"roles\": {\n",
    "                \"Supply Chain Manager\": {\n",
    "                    \"permissions\": {\n",
    "                        \"SUPPLIER\": [\"SELECT s_name\", \"COUNT s_suppkey\"],\n",
    "                        \"PARTSUPP\": [\"SELECT ps_partkey\"]\n",
    "                    },\n",
    "                    \"row_conditions\": \".s_status = 'active'\"\n",
    "                }\n",
    "            }\n",
    "        }\n",
    "    }\n",
    "\n",
    "\n",
    "    def generate_random_name(self):\n",
    "        \"\"\"Generates a random name from predefined first and last names.\"\"\"\n",
    "        return self.fake.name()\n",
    "\n",
    "    def record_exists(self, filename, entry):\n",
    "        \"\"\" Check if an entry already exists in a file \"\"\"\n",
    "        try:\n",
    "            with open(filename, 'r', newline='') as file:\n",
    "                reader = csv.reader(file)\n",
    "                for row in reader:\n",
    "                    if entry in row:\n",
    "                        return True\n",
    "        except FileNotFoundError:\n",
    "            pass\n",
    "        return False\n",
    "\n",
    "    def append_to_csv(self, filename, row):\n",
    "        \"\"\"Append a row to a CSV file if not already present.\"\"\"\n",
    "        if not self.record_exists(filename, row[0]):\n",
    "            with open(filename, 'a', newline='') as file:\n",
    "                writer = csv.writer(file)\n",
    "                writer.writerow(row)\n",
    "                \n",
    "\n",
    "\n",
    "\n",
    "\n",
    "    def simulate_scenario(self):\n",
    "        \"\"\"Simulate a random scenario with detailed role-based permissions.\"\"\"\n",
    "        scenario_name, scenario_details = random.choice(list(self.scenarios.items()))\n",
    "        print(f\"Scenario: {scenario_name}\")\n",
    "\n",
    "        # Randomly select one role from the chosen scenario to limit the execution to one role per run\n",
    "        role, details = random.choice(list(scenario_details[\"roles\"].items()))\n",
    "        user = self.generate_random_name()\n",
    "        print(f\"\\nExecuting User: {user} (Role: {role})\")\n",
    "        print(\"Access Consideration: Details for the scenario.\")\n",
    "\n",
    "        \n",
    "        self.append_to_csv('user.csv', [user ])\n",
    "\n",
    "    \n",
    "        self.append_to_csv('role.csv', [role ])\n",
    "\n",
    "        \n",
    "        self.append_to_csv('assignment.csv', [user , role ])\n",
    "\n",
    "        # Process only the first permission found for the randomly selected role\n",
    "        for table, operations in details[\"permissions\"].items():\n",
    "            operation = operations[0]  # Select only the first permission\n",
    "            # Splitting the operation to get the function (if any) and the column name\n",
    "            parts = operation.split()\n",
    "            if len(parts) > 1:\n",
    "                column_name = parts[1]  # assuming the column name is always after the function (e.g., \"SELECT o_totalprice\")\n",
    "            else:\n",
    "                column_name = parts[0]  # in case there's no function prefix (e.g., just a column name)\n",
    "\n",
    "            permission = f\"{operation} on {table}\"\n",
    "            condition = details[\"row_conditions\"] if details[\"row_conditions\"] else \",\"  # Ensuring the comma for empty conditions\n",
    "            # Format the output to meet the specific requirement\n",
    "            policy_entry = [str(self.policy_id) , role , column_name , condition]\n",
    "\n",
    "            # Append to policy.csv, format: id, role, column_name, condition,\n",
    "            self.append_to_csv('policy.csv', policy_entry)\n",
    "\n",
    "            # Increment policy ID for unique identifiers\n",
    "            self.policy_id += 1\n",
    "            break  # Ensure only one policy is output per execution by breaking out of the loop\n",
    "\n",
    "        # Since we are controlling the execution to only one policy per run, no further return is needed after the break\n",
    "\n",
    "# Initialize the simulator and run the simulation\n",
    "simulator = TPCH_RBAC_Simulator()\n",
    "simulator.simulate_scenario()\n",
    "\n"
   ]
  },
  {
   "cell_type": "code",
   "execution_count": 83,
   "id": "9bf65067",
   "metadata": {},
   "outputs": [
    {
     "name": "stdout",
     "output_type": "stream",
     "text": [
      "\n",
      "Contents of user.csv:\n",
      "name;age\n",
      "Alice;24\n",
      "Bob;29\n"
     ]
    },
    {
     "data": {
      "text/html": [
       "Click here to download user.csv: <a href='user.csv' target='_blank'>user.csv</a><br>"
      ],
      "text/plain": [
       "C:\\Users\\Smith\\user.csv"
      ]
     },
     "metadata": {},
     "output_type": "display_data"
    },
    {
     "name": "stdout",
     "output_type": "stream",
     "text": [
      "\n",
      "Contents of role.csv:\n",
      "role\n",
      "admin\n",
      "user\n"
     ]
    },
    {
     "data": {
      "text/html": [
       "Click here to download role.csv: <a href='role.csv' target='_blank'>role.csv</a><br>"
      ],
      "text/plain": [
       "C:\\Users\\Smith\\role.csv"
      ]
     },
     "metadata": {},
     "output_type": "display_data"
    },
    {
     "name": "stdout",
     "output_type": "stream",
     "text": [
      "\n",
      "Contents of assignment.csv:\n",
      "user;role\n",
      "Alice;admin\n",
      "Bob;user\n"
     ]
    },
    {
     "data": {
      "text/html": [
       "Click here to download assignment.csv: <a href='assignment.csv' target='_blank'>assignment.csv</a><br>"
      ],
      "text/plain": [
       "C:\\Users\\Smith\\assignment.csv"
      ]
     },
     "metadata": {},
     "output_type": "display_data"
    },
    {
     "name": "stdout",
     "output_type": "stream",
     "text": [
      "\n",
      "Contents of policy.csv:\n",
      "policy_id;role;column_name;condition\n",
      "1;admin;username;active=yes\n"
     ]
    },
    {
     "data": {
      "text/html": [
       "Click here to download policy.csv: <a href='policy.csv' target='_blank'>policy.csv</a><br>"
      ],
      "text/plain": [
       "C:\\Users\\Smith\\policy.csv"
      ]
     },
     "metadata": {},
     "output_type": "display_data"
    }
   ],
   "source": [
    "import csv\n",
    "from IPython.display import FileLink, display\n",
    "\n",
    "def print_csv_file(filename):\n",
    "    \"\"\"Print the contents of a CSV file.\"\"\"\n",
    "    try:\n",
    "        with open(filename, newline='') as file:\n",
    "            reader = csv.reader(file)\n",
    "            for row in reader:\n",
    "                print(', '.join(row))\n",
    "    except FileNotFoundError:\n",
    "        print(f\"File {filename} not found.\")\n",
    "\n",
    "def create_download_link(filename):\n",
    "    \"\"\"Create a download link in the Jupyter Notebook for the given file.\"\"\"\n",
    "    try:\n",
    "        # Display the file link\n",
    "        display(FileLink(filename, result_html_prefix=f\"Click here to download {filename}: \"))\n",
    "    except FileNotFoundError:\n",
    "        print(f\"Download link could not be created for {filename}. File does not exist.\")\n",
    "\n",
    "# Filenames of the CSV files\n",
    "filenames = ['user.csv', 'role.csv', 'assignment.csv', 'policy.csv']\n",
    "\n",
    "# Process each file to print contents and create a download link\n",
    "for filename in filenames:\n",
    "    print(f\"\\nContents of {filename}:\")\n",
    "    print_csv_file(filename)\n",
    "    create_download_link(filename)\n"
   ]
  },
  {
   "cell_type": "code",
   "execution_count": 84,
   "id": "84765e47",
   "metadata": {},
   "outputs": [
    {
     "name": "stdout",
     "output_type": "stream",
     "text": [
      "All CSV files have been cleared.\n"
     ]
    }
   ],
   "source": [
    "import os\n",
    "\n",
    "def clear_csv_files(filenames):\n",
    "    for filename in filenames:\n",
    "        # Ensure the directory exists, if it does not exist, create it\n",
    "        os.makedirs(os.path.dirname(filename) or '.', exist_ok=True)\n",
    "        # Open each file in write mode to clear it\n",
    "        with open(filename, 'w') as file:\n",
    "            pass  # Opening in 'w' mode and closing the file clears it\n",
    "\n",
    "# List of filenames to clear\n",
    "filenames = [\n",
    "   'user.csv', 'role.csv', 'assignment.csv', 'policy.csv'\n",
    "]\n",
    "\n",
    "# Clear CSV files\n",
    "clear_csv_files(filenames)\n",
    "\n",
    "print(\"All CSV files have been cleared.\")\n"
   ]
  },
  {
   "cell_type": "code",
   "execution_count": 87,
   "id": "083f343a",
   "metadata": {
    "scrolled": true
   },
   "outputs": [
    {
     "name": "stdout",
     "output_type": "stream",
     "text": [
      "\n",
      "Contents of user.csv:\n",
      "Michael Burke\n"
     ]
    },
    {
     "data": {
      "text/html": [
       "Click here to download user.csv: <a href='user.csv' target='_blank'>user.csv</a><br>"
      ],
      "text/plain": [
       "C:\\Users\\Smith\\user.csv"
      ]
     },
     "metadata": {},
     "output_type": "display_data"
    },
    {
     "name": "stdout",
     "output_type": "stream",
     "text": [
      "\n",
      "Contents of role.csv:\n",
      "Product Manager\n"
     ]
    },
    {
     "data": {
      "text/html": [
       "Click here to download role.csv: <a href='role.csv' target='_blank'>role.csv</a><br>"
      ],
      "text/plain": [
       "C:\\Users\\Smith\\role.csv"
      ]
     },
     "metadata": {},
     "output_type": "display_data"
    },
    {
     "name": "stdout",
     "output_type": "stream",
     "text": [
      "\n",
      "Contents of assignment.csv:\n",
      "Michael Burke,Product Manager\n"
     ]
    },
    {
     "data": {
      "text/html": [
       "Click here to download assignment.csv: <a href='assignment.csv' target='_blank'>assignment.csv</a><br>"
      ],
      "text/plain": [
       "C:\\Users\\Smith\\assignment.csv"
      ]
     },
     "metadata": {},
     "output_type": "display_data"
    },
    {
     "name": "stdout",
     "output_type": "stream",
     "text": [
      "\n",
      "Contents of policy.csv:\n",
      "0,Product Manager,p_partkey,p_size between 1 and 50\n"
     ]
    },
    {
     "data": {
      "text/html": [
       "Click here to download policy.csv: <a href='policy.csv' target='_blank'>policy.csv</a><br>"
      ],
      "text/plain": [
       "C:\\Users\\Smith\\policy.csv"
      ]
     },
     "metadata": {},
     "output_type": "display_data"
    }
   ],
   "source": [
    "import csv\n",
    "from IPython.display import FileLink, display\n",
    "\n",
    "def print_csv_file(filename):\n",
    "    \"\"\"Print the contents of a CSV file using a semicolon as the delimiter.\"\"\"\n",
    "    try:\n",
    "        with open(filename, newline='') as file:\n",
    "            reader = csv.reader(file, delimiter=';')  # Use semicolon as the delimiter\n",
    "            for row in reader:\n",
    "                print('; '.join(row))  # Join using semicolon to visually match the input format\n",
    "    except FileNotFoundError:\n",
    "        print(f\"File {filename} not found.\")\n",
    "\n",
    "def create_download_link(filename):\n",
    "    \"\"\"Create a download link in the Jupyter Notebook for the given file.\"\"\"\n",
    "    try:\n",
    "        # Display the file link\n",
    "        display(FileLink(filename, result_html_prefix=f\"Click here to download {filename}: \"))\n",
    "    except FileNotFoundError:\n",
    "        print(f\"Download link could not be created for {filename}. File does not exist.\")\n",
    "\n",
    "# Filenames of the CSV files\n",
    "filenames = ['user.csv', 'role.csv', 'assignment.csv', 'policy.csv']\n",
    "\n",
    "# Process each file to print contents and create a download link\n",
    "for filename in filenames:\n",
    "    print(f\"\\nContents of {filename}:\")\n",
    "    print_csv_file(filename)\n",
    "    create_download_link(filename)\n"
   ]
  },
  {
   "cell_type": "code",
   "execution_count": null,
   "id": "39460e10",
   "metadata": {},
   "outputs": [],
   "source": []
  },
  {
   "cell_type": "code",
   "execution_count": null,
   "id": "d874d96f",
   "metadata": {},
   "outputs": [],
   "source": []
  }
 ],
 "metadata": {
  "kernelspec": {
   "display_name": "Python 3",
   "language": "python",
   "name": "python3"
  },
  "language_info": {
   "codemirror_mode": {
    "name": "ipython",
    "version": 3
   },
   "file_extension": ".py",
   "mimetype": "text/x-python",
   "name": "python",
   "nbconvert_exporter": "python",
   "pygments_lexer": "ipython3",
   "version": "3.8.8"
  }
 },
 "nbformat": 4,
 "nbformat_minor": 5
}
